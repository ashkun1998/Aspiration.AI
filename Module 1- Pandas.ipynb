{
 "cells": [
  {
   "cell_type": "markdown",
   "metadata": {
    "colab_type": "text",
    "id": "eEHWCM6rMGCC"
   },
   "source": [
    "# Query 1.1\n",
    "Import the csv file of the stock of your choosing using 'pd.read_csv()' function into a dataframe. Shares of a company can be offered in more than one category. The category of a stock is indicated in the ‘Series’ column. If the csv file has data on more than one category, the ‘Date’ column will have repeating values. To avoid repetitions in the date, remove all the rows where 'Series' column is NOT 'EQ'. Analyze and understand each column properly. You'd find the head(), tail() and describe() functions to be immensely useful for exploration. You're free to carry out any other exploration of your own."
   ]
  },
  {
   "cell_type": "code",
   "execution_count": 1,
   "metadata": {
    "colab": {},
    "colab_type": "code",
    "id": "e1lpTDrEMGCE"
   },
   "outputs": [],
   "source": [
    "import numpy as np \n",
    "import pandas as pd\n",
    "import os\n",
    "import datetime\n",
    "from functools import partial"
   ]
  },
  {
   "cell_type": "code",
   "execution_count": 2,
   "metadata": {
    "colab": {
     "base_uri": "https://localhost:8080/",
     "height": 74,
     "resources": {
      "http://localhost:8080/nbextensions/google.colab/files.js": {
       "data": "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",
       "headers": [
        [
         "content-type",
         "application/javascript"
        ]
       ],
       "ok": true,
       "status": 200,
       "status_text": ""
      }
     }
    },
    "colab_type": "code",
    "id": "Nxc8I6P7MGCT",
    "outputId": "58cd72da-ac12-476a-f348-5506f57c2a20"
   },
   "outputs": [],
   "source": [
    "data = pd.read_csv('MINDTREE.csv')"
   ]
  },
  {
   "cell_type": "code",
   "execution_count": 9,
   "metadata": {
    "colab": {
     "base_uri": "https://localhost:8080/",
     "height": 606
    },
    "colab_type": "code",
    "id": "pHs3ehZPMGCb",
    "outputId": "85c4faf8-24ac-448f-96ac-14301004c464"
   },
   "outputs": [
    {
     "data": {
      "text/html": [
       "<div>\n",
       "<style scoped>\n",
       "    .dataframe tbody tr th:only-of-type {\n",
       "        vertical-align: middle;\n",
       "    }\n",
       "\n",
       "    .dataframe tbody tr th {\n",
       "        vertical-align: top;\n",
       "    }\n",
       "\n",
       "    .dataframe thead th {\n",
       "        text-align: right;\n",
       "    }\n",
       "</style>\n",
       "<table border=\"1\" class=\"dataframe\">\n",
       "  <thead>\n",
       "    <tr style=\"text-align: right;\">\n",
       "      <th></th>\n",
       "      <th>Symbol</th>\n",
       "      <th>Series</th>\n",
       "      <th>Date</th>\n",
       "      <th>Prev Close</th>\n",
       "      <th>Open Price</th>\n",
       "      <th>High Price</th>\n",
       "      <th>Low Price</th>\n",
       "      <th>Last Price</th>\n",
       "      <th>Close Price</th>\n",
       "      <th>Average Price</th>\n",
       "      <th>Total Traded Quantity</th>\n",
       "      <th>Turnover</th>\n",
       "      <th>No. of Trades</th>\n",
       "      <th>Deliverable Qty</th>\n",
       "      <th>% Dly Qt to Traded Qty</th>\n",
       "    </tr>\n",
       "  </thead>\n",
       "  <tbody>\n",
       "    <tr>\n",
       "      <th>0</th>\n",
       "      <td>MINDTREE</td>\n",
       "      <td>EQ</td>\n",
       "      <td>15-May-17</td>\n",
       "      <td>510.60</td>\n",
       "      <td>507.35</td>\n",
       "      <td>515.00</td>\n",
       "      <td>505.9</td>\n",
       "      <td>510.5</td>\n",
       "      <td>509.45</td>\n",
       "      <td>510.39</td>\n",
       "      <td>271952</td>\n",
       "      <td>138800509.8</td>\n",
       "      <td>8261</td>\n",
       "      <td>100362</td>\n",
       "      <td>36.90</td>\n",
       "    </tr>\n",
       "    <tr>\n",
       "      <th>1</th>\n",
       "      <td>MINDTREE</td>\n",
       "      <td>EQ</td>\n",
       "      <td>16-May-17</td>\n",
       "      <td>509.45</td>\n",
       "      <td>507.00</td>\n",
       "      <td>515.85</td>\n",
       "      <td>506.0</td>\n",
       "      <td>511.0</td>\n",
       "      <td>511.30</td>\n",
       "      <td>512.69</td>\n",
       "      <td>207011</td>\n",
       "      <td>106131728.2</td>\n",
       "      <td>5550</td>\n",
       "      <td>82090</td>\n",
       "      <td>39.65</td>\n",
       "    </tr>\n",
       "  </tbody>\n",
       "</table>\n",
       "</div>"
      ],
      "text/plain": [
       "     Symbol Series       Date  Prev Close  Open Price  High Price  Low Price  \\\n",
       "0  MINDTREE     EQ  15-May-17      510.60      507.35      515.00      505.9   \n",
       "1  MINDTREE     EQ  16-May-17      509.45      507.00      515.85      506.0   \n",
       "\n",
       "   Last Price  Close Price  Average Price  Total Traded Quantity     Turnover  \\\n",
       "0       510.5       509.45         510.39                 271952  138800509.8   \n",
       "1       511.0       511.30         512.69                 207011  106131728.2   \n",
       "\n",
       "   No. of Trades  Deliverable Qty  % Dly Qt to Traded Qty  \n",
       "0           8261           100362                   36.90  \n",
       "1           5550            82090                   39.65  "
      ]
     },
     "execution_count": 9,
     "metadata": {},
     "output_type": "execute_result"
    }
   ],
   "source": [
    "data.head(2)"
   ]
  },
  {
   "cell_type": "code",
   "execution_count": 10,
   "metadata": {
    "colab": {
     "base_uri": "https://localhost:8080/",
     "height": 606
    },
    "colab_type": "code",
    "id": "x8rA7kQ8MGCn",
    "outputId": "e0a8699f-1b42-4e88-a843-139a518956f3"
   },
   "outputs": [
    {
     "data": {
      "text/html": [
       "<div>\n",
       "<style scoped>\n",
       "    .dataframe tbody tr th:only-of-type {\n",
       "        vertical-align: middle;\n",
       "    }\n",
       "\n",
       "    .dataframe tbody tr th {\n",
       "        vertical-align: top;\n",
       "    }\n",
       "\n",
       "    .dataframe thead th {\n",
       "        text-align: right;\n",
       "    }\n",
       "</style>\n",
       "<table border=\"1\" class=\"dataframe\">\n",
       "  <thead>\n",
       "    <tr style=\"text-align: right;\">\n",
       "      <th></th>\n",
       "      <th>Symbol</th>\n",
       "      <th>Series</th>\n",
       "      <th>Date</th>\n",
       "      <th>Prev Close</th>\n",
       "      <th>Open Price</th>\n",
       "      <th>High Price</th>\n",
       "      <th>Low Price</th>\n",
       "      <th>Last Price</th>\n",
       "      <th>Close Price</th>\n",
       "      <th>Average Price</th>\n",
       "      <th>Total Traded Quantity</th>\n",
       "      <th>Turnover</th>\n",
       "      <th>No. of Trades</th>\n",
       "      <th>Deliverable Qty</th>\n",
       "      <th>% Dly Qt to Traded Qty</th>\n",
       "    </tr>\n",
       "  </thead>\n",
       "  <tbody>\n",
       "    <tr>\n",
       "      <th>0</th>\n",
       "      <td>MINDTREE</td>\n",
       "      <td>EQ</td>\n",
       "      <td>15-May-17</td>\n",
       "      <td>510.60</td>\n",
       "      <td>507.35</td>\n",
       "      <td>515.00</td>\n",
       "      <td>505.9</td>\n",
       "      <td>510.5</td>\n",
       "      <td>509.45</td>\n",
       "      <td>510.39</td>\n",
       "      <td>271952</td>\n",
       "      <td>138800509.8</td>\n",
       "      <td>8261</td>\n",
       "      <td>100362</td>\n",
       "      <td>36.90</td>\n",
       "    </tr>\n",
       "    <tr>\n",
       "      <th>1</th>\n",
       "      <td>MINDTREE</td>\n",
       "      <td>EQ</td>\n",
       "      <td>16-May-17</td>\n",
       "      <td>509.45</td>\n",
       "      <td>507.00</td>\n",
       "      <td>515.85</td>\n",
       "      <td>506.0</td>\n",
       "      <td>511.0</td>\n",
       "      <td>511.30</td>\n",
       "      <td>512.69</td>\n",
       "      <td>207011</td>\n",
       "      <td>106131728.2</td>\n",
       "      <td>5550</td>\n",
       "      <td>82090</td>\n",
       "      <td>39.65</td>\n",
       "    </tr>\n",
       "  </tbody>\n",
       "</table>\n",
       "</div>"
      ],
      "text/plain": [
       "     Symbol Series       Date  Prev Close  Open Price  High Price  Low Price  \\\n",
       "0  MINDTREE     EQ  15-May-17      510.60      507.35      515.00      505.9   \n",
       "1  MINDTREE     EQ  16-May-17      509.45      507.00      515.85      506.0   \n",
       "\n",
       "   Last Price  Close Price  Average Price  Total Traded Quantity     Turnover  \\\n",
       "0       510.5       509.45         510.39                 271952  138800509.8   \n",
       "1       511.0       511.30         512.69                 207011  106131728.2   \n",
       "\n",
       "   No. of Trades  Deliverable Qty  % Dly Qt to Traded Qty  \n",
       "0           8261           100362                   36.90  \n",
       "1           5550            82090                   39.65  "
      ]
     },
     "execution_count": 10,
     "metadata": {},
     "output_type": "execute_result"
    }
   ],
   "source": [
    "filtered_data = data[data.Series == 'EQ']\n",
    "filtered_data.head(2)"
   ]
  },
  {
   "cell_type": "code",
   "execution_count": 32,
   "metadata": {
    "colab": {
     "base_uri": "https://localhost:8080/",
     "height": 306
    },
    "colab_type": "code",
    "id": "jiim-evdMGC8",
    "outputId": "f6bae696-ce2f-4664-b068-ddc88f76a06e"
   },
   "outputs": [
    {
     "data": {
      "text/html": [
       "<div>\n",
       "<style scoped>\n",
       "    .dataframe tbody tr th:only-of-type {\n",
       "        vertical-align: middle;\n",
       "    }\n",
       "\n",
       "    .dataframe tbody tr th {\n",
       "        vertical-align: top;\n",
       "    }\n",
       "\n",
       "    .dataframe thead th {\n",
       "        text-align: right;\n",
       "    }\n",
       "</style>\n",
       "<table border=\"1\" class=\"dataframe\">\n",
       "  <thead>\n",
       "    <tr style=\"text-align: right;\">\n",
       "      <th></th>\n",
       "      <th>Symbol</th>\n",
       "      <th>Series</th>\n",
       "      <th>Date</th>\n",
       "      <th>Prev Close</th>\n",
       "      <th>Open Price</th>\n",
       "      <th>High Price</th>\n",
       "      <th>Low Price</th>\n",
       "      <th>Last Price</th>\n",
       "      <th>Close Price</th>\n",
       "      <th>Average Price</th>\n",
       "      <th>Total Traded Quantity</th>\n",
       "      <th>Turnover</th>\n",
       "      <th>No. of Trades</th>\n",
       "      <th>Deliverable Qty</th>\n",
       "      <th>% Dly Qt to Traded Qty</th>\n",
       "    </tr>\n",
       "  </thead>\n",
       "  <tbody>\n",
       "    <tr>\n",
       "      <th>492</th>\n",
       "      <td>MINDTREE</td>\n",
       "      <td>EQ</td>\n",
       "      <td>2019-05-10</td>\n",
       "      <td>980.45</td>\n",
       "      <td>980.4</td>\n",
       "      <td>982.9</td>\n",
       "      <td>973.0</td>\n",
       "      <td>974.0</td>\n",
       "      <td>975.35</td>\n",
       "      <td>977.55</td>\n",
       "      <td>215170</td>\n",
       "      <td>210339592.4</td>\n",
       "      <td>5128</td>\n",
       "      <td>26734</td>\n",
       "      <td>12.42</td>\n",
       "    </tr>\n",
       "    <tr>\n",
       "      <th>493</th>\n",
       "      <td>MINDTREE</td>\n",
       "      <td>EQ</td>\n",
       "      <td>2019-05-13</td>\n",
       "      <td>975.35</td>\n",
       "      <td>973.4</td>\n",
       "      <td>983.0</td>\n",
       "      <td>970.3</td>\n",
       "      <td>981.0</td>\n",
       "      <td>979.10</td>\n",
       "      <td>980.16</td>\n",
       "      <td>485941</td>\n",
       "      <td>476299706.8</td>\n",
       "      <td>14005</td>\n",
       "      <td>222691</td>\n",
       "      <td>45.83</td>\n",
       "    </tr>\n",
       "  </tbody>\n",
       "</table>\n",
       "</div>"
      ],
      "text/plain": [
       "       Symbol Series       Date  Prev Close  Open Price  High Price  \\\n",
       "492  MINDTREE     EQ 2019-05-10      980.45       980.4       982.9   \n",
       "493  MINDTREE     EQ 2019-05-13      975.35       973.4       983.0   \n",
       "\n",
       "     Low Price  Last Price  Close Price  Average Price  Total Traded Quantity  \\\n",
       "492      973.0       974.0       975.35         977.55                 215170   \n",
       "493      970.3       981.0       979.10         980.16                 485941   \n",
       "\n",
       "        Turnover  No. of Trades  Deliverable Qty  % Dly Qt to Traded Qty  \n",
       "492  210339592.4           5128            26734                   12.42  \n",
       "493  476299706.8          14005           222691                   45.83  "
      ]
     },
     "execution_count": 32,
     "metadata": {},
     "output_type": "execute_result"
    }
   ],
   "source": [
    "filtered_data.tail(2)"
   ]
  },
  {
   "cell_type": "code",
   "execution_count": 31,
   "metadata": {
    "colab": {
     "base_uri": "https://localhost:8080/",
     "height": 348
    },
    "colab_type": "code",
    "id": "JJ2D3ZozMGDI",
    "outputId": "c1d4d1d3-3698-4333-bea5-007c34f1cc26"
   },
   "outputs": [
    {
     "data": {
      "text/html": [
       "<div>\n",
       "<style scoped>\n",
       "    .dataframe tbody tr th:only-of-type {\n",
       "        vertical-align: middle;\n",
       "    }\n",
       "\n",
       "    .dataframe tbody tr th {\n",
       "        vertical-align: top;\n",
       "    }\n",
       "\n",
       "    .dataframe thead th {\n",
       "        text-align: right;\n",
       "    }\n",
       "</style>\n",
       "<table border=\"1\" class=\"dataframe\">\n",
       "  <thead>\n",
       "    <tr style=\"text-align: right;\">\n",
       "      <th></th>\n",
       "      <th>Prev Close</th>\n",
       "      <th>Open Price</th>\n",
       "      <th>High Price</th>\n",
       "      <th>Low Price</th>\n",
       "      <th>Last Price</th>\n",
       "      <th>Close Price</th>\n",
       "      <th>Average Price</th>\n",
       "      <th>Total Traded Quantity</th>\n",
       "      <th>Turnover</th>\n",
       "      <th>No. of Trades</th>\n",
       "      <th>Deliverable Qty</th>\n",
       "      <th>% Dly Qt to Traded Qty</th>\n",
       "    </tr>\n",
       "  </thead>\n",
       "  <tbody>\n",
       "    <tr>\n",
       "      <th>count</th>\n",
       "      <td>494.000000</td>\n",
       "      <td>494.000000</td>\n",
       "      <td>494.000000</td>\n",
       "      <td>494.000000</td>\n",
       "      <td>494.000000</td>\n",
       "      <td>494.000000</td>\n",
       "      <td>494.000000</td>\n",
       "      <td>4.940000e+02</td>\n",
       "      <td>4.940000e+02</td>\n",
       "      <td>494.000000</td>\n",
       "      <td>4.940000e+02</td>\n",
       "      <td>494.00000</td>\n",
       "    </tr>\n",
       "    <tr>\n",
       "      <th>mean</th>\n",
       "      <td>778.486032</td>\n",
       "      <td>779.720547</td>\n",
       "      <td>792.118421</td>\n",
       "      <td>767.127328</td>\n",
       "      <td>779.634919</td>\n",
       "      <td>779.434413</td>\n",
       "      <td>780.076619</td>\n",
       "      <td>1.388615e+06</td>\n",
       "      <td>1.191635e+09</td>\n",
       "      <td>33021.139676</td>\n",
       "      <td>3.463618e+05</td>\n",
       "      <td>29.18668</td>\n",
       "    </tr>\n",
       "    <tr>\n",
       "      <th>std</th>\n",
       "      <td>214.140514</td>\n",
       "      <td>214.851383</td>\n",
       "      <td>218.056333</td>\n",
       "      <td>210.381329</td>\n",
       "      <td>214.484986</td>\n",
       "      <td>213.989087</td>\n",
       "      <td>214.038370</td>\n",
       "      <td>1.450169e+06</td>\n",
       "      <td>1.373025e+09</td>\n",
       "      <td>30613.616442</td>\n",
       "      <td>3.420743e+05</td>\n",
       "      <td>14.05687</td>\n",
       "    </tr>\n",
       "    <tr>\n",
       "      <th>min</th>\n",
       "      <td>442.500000</td>\n",
       "      <td>443.000000</td>\n",
       "      <td>448.750000</td>\n",
       "      <td>439.050000</td>\n",
       "      <td>441.400000</td>\n",
       "      <td>442.500000</td>\n",
       "      <td>442.240000</td>\n",
       "      <td>4.630000e+04</td>\n",
       "      <td>2.305583e+07</td>\n",
       "      <td>1502.000000</td>\n",
       "      <td>1.505300e+04</td>\n",
       "      <td>5.87000</td>\n",
       "    </tr>\n",
       "    <tr>\n",
       "      <th>25%</th>\n",
       "      <td>537.025000</td>\n",
       "      <td>537.975000</td>\n",
       "      <td>545.862500</td>\n",
       "      <td>528.012500</td>\n",
       "      <td>535.862500</td>\n",
       "      <td>537.400000</td>\n",
       "      <td>537.410000</td>\n",
       "      <td>5.724762e+05</td>\n",
       "      <td>3.399893e+08</td>\n",
       "      <td>14062.750000</td>\n",
       "      <td>1.523290e+05</td>\n",
       "      <td>18.69500</td>\n",
       "    </tr>\n",
       "    <tr>\n",
       "      <th>50%</th>\n",
       "      <td>835.075000</td>\n",
       "      <td>838.000000</td>\n",
       "      <td>851.525000</td>\n",
       "      <td>820.625000</td>\n",
       "      <td>835.025000</td>\n",
       "      <td>835.875000</td>\n",
       "      <td>835.615000</td>\n",
       "      <td>1.006586e+06</td>\n",
       "      <td>8.580623e+08</td>\n",
       "      <td>25609.500000</td>\n",
       "      <td>2.529855e+05</td>\n",
       "      <td>26.39500</td>\n",
       "    </tr>\n",
       "    <tr>\n",
       "      <th>75%</th>\n",
       "      <td>968.137500</td>\n",
       "      <td>968.500000</td>\n",
       "      <td>980.500000</td>\n",
       "      <td>949.450000</td>\n",
       "      <td>969.950000</td>\n",
       "      <td>969.775000</td>\n",
       "      <td>967.802500</td>\n",
       "      <td>1.631997e+06</td>\n",
       "      <td>1.431053e+09</td>\n",
       "      <td>42737.000000</td>\n",
       "      <td>4.366368e+05</td>\n",
       "      <td>37.06250</td>\n",
       "    </tr>\n",
       "    <tr>\n",
       "      <th>max</th>\n",
       "      <td>1161.950000</td>\n",
       "      <td>1165.000000</td>\n",
       "      <td>1183.800000</td>\n",
       "      <td>1147.800000</td>\n",
       "      <td>1166.000000</td>\n",
       "      <td>1161.950000</td>\n",
       "      <td>1167.480000</td>\n",
       "      <td>1.338521e+07</td>\n",
       "      <td>1.298866e+10</td>\n",
       "      <td>311806.000000</td>\n",
       "      <td>3.851210e+06</td>\n",
       "      <td>91.89000</td>\n",
       "    </tr>\n",
       "  </tbody>\n",
       "</table>\n",
       "</div>"
      ],
      "text/plain": [
       "        Prev Close   Open Price  ...  Deliverable Qty  % Dly Qt to Traded Qty\n",
       "count   494.000000   494.000000  ...     4.940000e+02               494.00000\n",
       "mean    778.486032   779.720547  ...     3.463618e+05                29.18668\n",
       "std     214.140514   214.851383  ...     3.420743e+05                14.05687\n",
       "min     442.500000   443.000000  ...     1.505300e+04                 5.87000\n",
       "25%     537.025000   537.975000  ...     1.523290e+05                18.69500\n",
       "50%     835.075000   838.000000  ...     2.529855e+05                26.39500\n",
       "75%     968.137500   968.500000  ...     4.366368e+05                37.06250\n",
       "max    1161.950000  1165.000000  ...     3.851210e+06                91.89000\n",
       "\n",
       "[8 rows x 12 columns]"
      ]
     },
     "execution_count": 31,
     "metadata": {
      "tags": []
     },
     "output_type": "execute_result"
    }
   ],
   "source": [
    "filtered_data.describe()"
   ]
  },
  {
   "cell_type": "markdown",
   "metadata": {
    "colab_type": "text",
    "id": "-tjL3yBdMGDS"
   },
   "source": [
    "# Query 1.2\n",
    "Calculate the maximum, minimum and mean price for the last 90 days. (price=Closing Price unless stated otherwise)"
   ]
  },
  {
   "cell_type": "code",
   "execution_count": 12,
   "metadata": {
    "colab": {
     "base_uri": "https://localhost:8080/",
     "height": 34
    },
    "colab_type": "code",
    "id": "dOdtkSlUMGDU",
    "outputId": "e1a0b471-1545-477f-80a4-00d9128ad240"
   },
   "outputs": [
    {
     "data": {
      "text/plain": [
       "989.4"
      ]
     },
     "execution_count": 12,
     "metadata": {},
     "output_type": "execute_result"
    }
   ],
   "source": [
    "filtered_data.tail(90)['Close Price'].max()"
   ]
  },
  {
   "cell_type": "code",
   "execution_count": 13,
   "metadata": {
    "colab": {
     "base_uri": "https://localhost:8080/",
     "height": 34
    },
    "colab_type": "code",
    "id": "dykUc5e6MGDb",
    "outputId": "35ba602e-4619-4c84-c0a2-b411e1b13ca8"
   },
   "outputs": [
    {
     "data": {
      "text/plain": [
       "812.25"
      ]
     },
     "execution_count": 13,
     "metadata": {},
     "output_type": "execute_result"
    }
   ],
   "source": [
    "filtered_data.tail(90)['Close Price'].min()"
   ]
  },
  {
   "cell_type": "code",
   "execution_count": 14,
   "metadata": {
    "colab": {
     "base_uri": "https://localhost:8080/",
     "height": 34
    },
    "colab_type": "code",
    "id": "F7vKveN8MGDi",
    "outputId": "753c4625-cf99-4bb8-f63e-76c086ed9a77"
   },
   "outputs": [
    {
     "data": {
      "text/plain": [
       "918.6122222222218"
      ]
     },
     "execution_count": 14,
     "metadata": {},
     "output_type": "execute_result"
    }
   ],
   "source": [
    "filtered_data.tail(90)['Close Price'].mean()"
   ]
  },
  {
   "cell_type": "markdown",
   "metadata": {
    "colab_type": "text",
    "id": "bpUG2wYfMGDt"
   },
   "source": [
    "# Query 1.3 \n",
    "Analyse the data types for each column of the dataframe. Pandas knows how to deal with dates in an intelligent manner. But to make use of Pandas functionality for dates, you need to ensure that the column is of type 'datetime64(ns)'. Change the date column from 'object' type to 'datetime64(ns)' for future convenience. See what happens if you subtract the minimum value of the date column from the maximum value."
   ]
  },
  {
   "cell_type": "code",
   "execution_count": 17,
   "metadata": {},
   "outputs": [
    {
     "name": "stdout",
     "output_type": "stream",
     "text": [
      "<class 'pandas.core.frame.DataFrame'>\n",
      "Int64Index: 494 entries, 0 to 493\n",
      "Data columns (total 15 columns):\n",
      "Symbol                    494 non-null object\n",
      "Series                    494 non-null object\n",
      "Date                      494 non-null datetime64[ns]\n",
      "Prev Close                494 non-null float64\n",
      "Open Price                494 non-null float64\n",
      "High Price                494 non-null float64\n",
      "Low Price                 494 non-null float64\n",
      "Last Price                494 non-null float64\n",
      "Close Price               494 non-null float64\n",
      "Average Price             494 non-null float64\n",
      "Total Traded Quantity     494 non-null int64\n",
      "Turnover                  494 non-null float64\n",
      "No. of Trades             494 non-null int64\n",
      "Deliverable Qty           494 non-null int64\n",
      "% Dly Qt to Traded Qty    494 non-null float64\n",
      "dtypes: datetime64[ns](1), float64(9), int64(3), object(2)\n",
      "memory usage: 61.8+ KB\n"
     ]
    }
   ],
   "source": [
    "filtered_data.info()"
   ]
  },
  {
   "cell_type": "code",
   "execution_count": 15,
   "metadata": {
    "colab": {
     "base_uri": "https://localhost:8080/",
     "height": 34
    },
    "colab_type": "code",
    "id": "GryuwUBNMGDv",
    "outputId": "56d9c049-721f-49df-fe65-978c914439e8"
   },
   "outputs": [
    {
     "data": {
      "text/plain": [
       "dtype('<M8[ns]')"
      ]
     },
     "execution_count": 15,
     "metadata": {},
     "output_type": "execute_result"
    }
   ],
   "source": [
    "filtered_data['Date'] = pd.to_datetime(filtered_data['Date'])\n",
    "filtered_data['Date'].dtype"
   ]
  },
  {
   "cell_type": "code",
   "execution_count": 16,
   "metadata": {
    "colab": {
     "base_uri": "https://localhost:8080/",
     "height": 34
    },
    "colab_type": "code",
    "id": "2LzN0FK5MGD9",
    "outputId": "4a797e4f-092c-48ad-9e91-d151f4490b0c"
   },
   "outputs": [
    {
     "data": {
      "text/plain": [
       "Timedelta('728 days 00:00:00')"
      ]
     },
     "execution_count": 16,
     "metadata": {},
     "output_type": "execute_result"
    }
   ],
   "source": [
    "filtered_data['Date'].max()-filtered_data['Date'].min()"
   ]
  },
  {
   "cell_type": "markdown",
   "metadata": {
    "colab_type": "text",
    "id": "JkZeTsrpMGEE"
   },
   "source": [
    "# Query 1.4\n",
    "In a separate array , calculate the monthwise VWAP (Volume Weighted Average Price ) of the stock. \n",
    "( VWAP = sum(price*volume)/sum(volume) ) \n",
    "To know more about VWAP , visit - VWAP definition \n",
    "{Hint : Create a new dataframe column ‘Month’. The values for this column can be derived from the ‘Date” column by using appropriate pandas functions. Similarly, create a column ‘Year’ and initialize it. Then use the 'groupby()' function by month and year. Finally, calculate the vwap value for each month (i.e. for each group created).\n",
    "\n",
    "DatetimeIndex = outputs an Index object containing the date values present in each of the entries of the DatetimeIndex object."
   ]
  },
  {
   "cell_type": "code",
   "execution_count": 20,
   "metadata": {
    "colab": {
     "base_uri": "https://localhost:8080/",
     "height": 1000
    },
    "colab_type": "code",
    "id": "bnxLwQtxMGEF",
    "outputId": "28fa2104-672d-41c6-c2d0-544a11b4db3e",
    "scrolled": true
   },
   "outputs": [
    {
     "data": {
      "text/html": [
       "<div>\n",
       "<style scoped>\n",
       "    .dataframe tbody tr th:only-of-type {\n",
       "        vertical-align: middle;\n",
       "    }\n",
       "\n",
       "    .dataframe tbody tr th {\n",
       "        vertical-align: top;\n",
       "    }\n",
       "\n",
       "    .dataframe thead th {\n",
       "        text-align: right;\n",
       "    }\n",
       "</style>\n",
       "<table border=\"1\" class=\"dataframe\">\n",
       "  <thead>\n",
       "    <tr style=\"text-align: right;\">\n",
       "      <th></th>\n",
       "      <th></th>\n",
       "      <th>VWAP</th>\n",
       "    </tr>\n",
       "    <tr>\n",
       "      <th>Month</th>\n",
       "      <th>Year</th>\n",
       "      <th></th>\n",
       "    </tr>\n",
       "  </thead>\n",
       "  <tbody>\n",
       "    <tr>\n",
       "      <th rowspan=\"2\" valign=\"top\">1</th>\n",
       "      <th>2018</th>\n",
       "      <td>516.202743</td>\n",
       "    </tr>\n",
       "    <tr>\n",
       "      <th>2019</th>\n",
       "      <td>843.125130</td>\n",
       "    </tr>\n",
       "    <tr>\n",
       "      <th rowspan=\"2\" valign=\"top\">2</th>\n",
       "      <th>2018</th>\n",
       "      <td>572.722380</td>\n",
       "    </tr>\n",
       "    <tr>\n",
       "      <th>2019</th>\n",
       "      <td>846.155182</td>\n",
       "    </tr>\n",
       "    <tr>\n",
       "      <th rowspan=\"2\" valign=\"top\">3</th>\n",
       "      <th>2018</th>\n",
       "      <td>609.866603</td>\n",
       "    </tr>\n",
       "    <tr>\n",
       "      <th>2019</th>\n",
       "      <td>848.327396</td>\n",
       "    </tr>\n",
       "    <tr>\n",
       "      <th rowspan=\"2\" valign=\"top\">4</th>\n",
       "      <th>2018</th>\n",
       "      <td>651.524063</td>\n",
       "    </tr>\n",
       "    <tr>\n",
       "      <th>2019</th>\n",
       "      <td>853.178143</td>\n",
       "    </tr>\n",
       "    <tr>\n",
       "      <th rowspan=\"3\" valign=\"top\">5</th>\n",
       "      <th>2017</th>\n",
       "      <td>509.450000</td>\n",
       "    </tr>\n",
       "    <tr>\n",
       "      <th>2018</th>\n",
       "      <td>730.334478</td>\n",
       "    </tr>\n",
       "    <tr>\n",
       "      <th>2019</th>\n",
       "      <td>856.030810</td>\n",
       "    </tr>\n",
       "    <tr>\n",
       "      <th rowspan=\"2\" valign=\"top\">6</th>\n",
       "      <th>2017</th>\n",
       "      <td>522.517683</td>\n",
       "    </tr>\n",
       "    <tr>\n",
       "      <th>2018</th>\n",
       "      <td>760.847401</td>\n",
       "    </tr>\n",
       "    <tr>\n",
       "      <th rowspan=\"2\" valign=\"top\">7</th>\n",
       "      <th>2017</th>\n",
       "      <td>528.654830</td>\n",
       "    </tr>\n",
       "    <tr>\n",
       "      <th>2018</th>\n",
       "      <td>776.898919</td>\n",
       "    </tr>\n",
       "    <tr>\n",
       "      <th rowspan=\"2\" valign=\"top\">8</th>\n",
       "      <th>2017</th>\n",
       "      <td>521.674873</td>\n",
       "    </tr>\n",
       "    <tr>\n",
       "      <th>2018</th>\n",
       "      <td>806.405595</td>\n",
       "    </tr>\n",
       "    <tr>\n",
       "      <th rowspan=\"2\" valign=\"top\">9</th>\n",
       "      <th>2017</th>\n",
       "      <td>514.842649</td>\n",
       "    </tr>\n",
       "    <tr>\n",
       "      <th>2018</th>\n",
       "      <td>822.588413</td>\n",
       "    </tr>\n",
       "    <tr>\n",
       "      <th rowspan=\"2\" valign=\"top\">10</th>\n",
       "      <th>2017</th>\n",
       "      <td>503.871258</td>\n",
       "    </tr>\n",
       "    <tr>\n",
       "      <th>2018</th>\n",
       "      <td>840.417469</td>\n",
       "    </tr>\n",
       "    <tr>\n",
       "      <th rowspan=\"2\" valign=\"top\">11</th>\n",
       "      <th>2017</th>\n",
       "      <td>501.226909</td>\n",
       "    </tr>\n",
       "    <tr>\n",
       "      <th>2018</th>\n",
       "      <td>842.242954</td>\n",
       "    </tr>\n",
       "    <tr>\n",
       "      <th rowspan=\"2\" valign=\"top\">12</th>\n",
       "      <th>2017</th>\n",
       "      <td>504.364596</td>\n",
       "    </tr>\n",
       "    <tr>\n",
       "      <th>2018</th>\n",
       "      <td>842.393059</td>\n",
       "    </tr>\n",
       "  </tbody>\n",
       "</table>\n",
       "</div>"
      ],
      "text/plain": [
       "                  VWAP\n",
       "Month Year            \n",
       "1     2018  516.202743\n",
       "      2019  843.125130\n",
       "2     2018  572.722380\n",
       "      2019  846.155182\n",
       "3     2018  609.866603\n",
       "      2019  848.327396\n",
       "4     2018  651.524063\n",
       "      2019  853.178143\n",
       "5     2017  509.450000\n",
       "      2018  730.334478\n",
       "      2019  856.030810\n",
       "6     2017  522.517683\n",
       "      2018  760.847401\n",
       "7     2017  528.654830\n",
       "      2018  776.898919\n",
       "8     2017  521.674873\n",
       "      2018  806.405595\n",
       "9     2017  514.842649\n",
       "      2018  822.588413\n",
       "10    2017  503.871258\n",
       "      2018  840.417469\n",
       "11    2017  501.226909\n",
       "      2018  842.242954\n",
       "12    2017  504.364596\n",
       "      2018  842.393059"
      ]
     },
     "execution_count": 20,
     "metadata": {},
     "output_type": "execute_result"
    }
   ],
   "source": [
    "data['Month'] = pd.DatetimeIndex(data['Date']).month\n",
    "data['Year'] = pd.DatetimeIndex(data['Date']).year\n",
    "data['VWAP'] = (data['Close Price'] * data['Total Traded Quantity']).cumsum() / data['Total Traded Quantity'].fillna(0).cumsum()\n",
    "data_vwap = data[['Month','Year','VWAP']]\n",
    "group = data_vwap.groupby(['Month','Year'])\n",
    "group.first()"
   ]
  },
  {
   "cell_type": "markdown",
   "metadata": {
    "colab_type": "text",
    "id": "JRNs4aFLMGEL"
   },
   "source": [
    "# Query 1.5\n",
    "Write a function to calculate the average price over the last N days of the stock price data where N is a user defined parameter. Write a second function to calculate the profit/loss percentage over the last N days.\n",
    "Calculate the average price AND the profit/loss percentages over the course of last -\n",
    "1 week, 2 weeks, 1 month, 3 months, 6 months and 1 year.\n",
    "{Note : Profit/Loss percentage between N days is the percentage change between the closing prices of the 2 days}\n",
    "\n",
    "iloc returns a Pandas Series when one row is selected, and a Pandas DataFrame when multiple rows are selected, or if any column in full is selected. "
   ]
  },
  {
   "cell_type": "code",
   "execution_count": 45,
   "metadata": {},
   "outputs": [
    {
     "data": {
      "text/plain": [
       "489    979.95\n",
       "490    980.50\n",
       "491    980.45\n",
       "492    975.35\n",
       "493    979.10\n",
       "Name: Close Price, dtype: float64"
      ]
     },
     "execution_count": 45,
     "metadata": {},
     "output_type": "execute_result"
    }
   ],
   "source": [
    "data['Close Price'].tail(5)"
   ]
  },
  {
   "cell_type": "code",
   "execution_count": 47,
   "metadata": {},
   "outputs": [
    {
     "data": {
      "text/plain": [
       "979.1"
      ]
     },
     "execution_count": 47,
     "metadata": {},
     "output_type": "execute_result"
    }
   ],
   "source": [
    "data['Close Price'].tail(5).iloc[4]"
   ]
  },
  {
   "cell_type": "code",
   "execution_count": 48,
   "metadata": {},
   "outputs": [
    {
     "data": {
      "text/plain": [
       "979.95"
      ]
     },
     "execution_count": 48,
     "metadata": {},
     "output_type": "execute_result"
    }
   ],
   "source": [
    "data['Close Price'].tail(5).iloc[0]"
   ]
  },
  {
   "cell_type": "code",
   "execution_count": 21,
   "metadata": {
    "colab": {
     "base_uri": "https://localhost:8080/",
     "height": 527
    },
    "colab_type": "code",
    "id": "VDf0-NB2MGEM",
    "outputId": "70ff59cf-46fb-41d4-e2da-422d131499f4"
   },
   "outputs": [
    {
     "name": "stdout",
     "output_type": "stream",
     "text": [
      "Average prices for last N days are as follows:\n",
      "Last 1 week 979.4680000000001\n",
      "Last 2 weeks 979.175\n",
      "Last 1 month 978.2695\n",
      "Last 3 months 943.5338333333333\n",
      "Last 6 months 903.1566666666666\n",
      "Last 1 year 948.6203333333334\n",
      "Profit/Loss % for N days are as follows:\n",
      "Last 1 week 0.0868144214074173\n",
      "Last 2 weeks 0.33193749361658664\n",
      "Last 1 month 0.9038913287713229\n",
      "Last 3 months 6.235318149320811\n",
      "Last 6 months 14.166070881421719\n",
      "Last 1 year 4.064957614135426\n"
     ]
    }
   ],
   "source": [
    "print(\"Average prices for last N days are as follows:\")\n",
    "def avg_price(N):\n",
    "    return (data['Average Price'].tail(N).sum())/N\n",
    "\n",
    "print(\"Last 1 week\",avg_price(5))\n",
    "print(\"Last 2 weeks\",avg_price(10))\n",
    "print(\"Last 1 month\",avg_price(20))\n",
    "print(\"Last 3 months\",avg_price(60))\n",
    "print(\"Last 6 months\",avg_price(120))\n",
    "print(\"Last 1 year\",avg_price(240))\n",
    "\n",
    "print(\"Profit/Loss % for N days are as follows:\")\n",
    "def prof_loss(N):\n",
    "    difference = (data['Close Price'].tail(N).iloc[N-1] - data['Close Price'].tail(N).iloc[0])\n",
    "    if difference < 0 :\n",
    "        loss = -(difference)\n",
    "        loss_percen = (loss/data['Close Price'].tail(N).iloc[N-1])*100\n",
    "        return loss_percen\n",
    "    if difference > 0 :\n",
    "        profit = difference\n",
    "        profit_percen = (profit/data['Close Price'].tail(N).iloc[N-1])*100\n",
    "        return profit_percen\n",
    "    \n",
    "print(\"Last 1 week\",prof_loss(5))\n",
    "print(\"Last 2 weeks\",prof_loss(10))\n",
    "print(\"Last 1 month\",prof_loss(20))\n",
    "print(\"Last 3 months\",prof_loss(60))\n",
    "print(\"Last 6 months\",prof_loss(120))\n",
    "print(\"Last 1 year\",prof_loss(240))"
   ]
  },
  {
   "cell_type": "markdown",
   "metadata": {
    "colab_type": "text",
    "id": "cZjCcS7oMGER"
   },
   "source": [
    "# Query 1.6 \n",
    "Add a column 'Day_Perc_Change' where the values are the daily change in percentages i.e. the percentage change between 2 consecutive day's closing prices. Instead of using the basic mathematical formula for computing the same, use 'pct_change()' function provided by Pandas for dataframes. You will note that the first entry of the column will have a ‘Nan’ value. Why does this happen? Either remove the first row, or set the entry to 0 before proceeding."
   ]
  },
  {
   "cell_type": "code",
   "execution_count": 49,
   "metadata": {
    "colab": {
     "base_uri": "https://localhost:8080/",
     "height": 1000
    },
    "colab_type": "code",
    "id": "5FoVa353MGES",
    "outputId": "54dda6ef-d2dd-4b36-8772-29895ad690be"
   },
   "outputs": [
    {
     "data": {
      "text/html": [
       "<div>\n",
       "<style scoped>\n",
       "    .dataframe tbody tr th:only-of-type {\n",
       "        vertical-align: middle;\n",
       "    }\n",
       "\n",
       "    .dataframe tbody tr th {\n",
       "        vertical-align: top;\n",
       "    }\n",
       "\n",
       "    .dataframe thead th {\n",
       "        text-align: right;\n",
       "    }\n",
       "</style>\n",
       "<table border=\"1\" class=\"dataframe\">\n",
       "  <thead>\n",
       "    <tr style=\"text-align: right;\">\n",
       "      <th></th>\n",
       "      <th>Symbol</th>\n",
       "      <th>Series</th>\n",
       "      <th>Date</th>\n",
       "      <th>Prev Close</th>\n",
       "      <th>Open Price</th>\n",
       "      <th>High Price</th>\n",
       "      <th>Low Price</th>\n",
       "      <th>Last Price</th>\n",
       "      <th>Close Price</th>\n",
       "      <th>Average Price</th>\n",
       "      <th>Total Traded Quantity</th>\n",
       "      <th>Turnover</th>\n",
       "      <th>No. of Trades</th>\n",
       "      <th>Deliverable Qty</th>\n",
       "      <th>% Dly Qt to Traded Qty</th>\n",
       "      <th>Month</th>\n",
       "      <th>Year</th>\n",
       "      <th>VWAP</th>\n",
       "      <th>Day_Perc_Change</th>\n",
       "    </tr>\n",
       "  </thead>\n",
       "  <tbody>\n",
       "    <tr>\n",
       "      <th>0</th>\n",
       "      <td>MINDTREE</td>\n",
       "      <td>EQ</td>\n",
       "      <td>15-May-17</td>\n",
       "      <td>510.60</td>\n",
       "      <td>507.35</td>\n",
       "      <td>515.00</td>\n",
       "      <td>505.90</td>\n",
       "      <td>510.50</td>\n",
       "      <td>509.45</td>\n",
       "      <td>510.39</td>\n",
       "      <td>271952</td>\n",
       "      <td>138800509.8</td>\n",
       "      <td>8261</td>\n",
       "      <td>100362</td>\n",
       "      <td>36.90</td>\n",
       "      <td>5</td>\n",
       "      <td>2017</td>\n",
       "      <td>509.450000</td>\n",
       "      <td>0.000000</td>\n",
       "    </tr>\n",
       "    <tr>\n",
       "      <th>1</th>\n",
       "      <td>MINDTREE</td>\n",
       "      <td>EQ</td>\n",
       "      <td>16-May-17</td>\n",
       "      <td>509.45</td>\n",
       "      <td>507.00</td>\n",
       "      <td>515.85</td>\n",
       "      <td>506.00</td>\n",
       "      <td>511.00</td>\n",
       "      <td>511.30</td>\n",
       "      <td>512.69</td>\n",
       "      <td>207011</td>\n",
       "      <td>106131728.2</td>\n",
       "      <td>5550</td>\n",
       "      <td>82090</td>\n",
       "      <td>39.65</td>\n",
       "      <td>5</td>\n",
       "      <td>2017</td>\n",
       "      <td>510.249582</td>\n",
       "      <td>0.003631</td>\n",
       "    </tr>\n",
       "    <tr>\n",
       "      <th>2</th>\n",
       "      <td>MINDTREE</td>\n",
       "      <td>EQ</td>\n",
       "      <td>17-May-17</td>\n",
       "      <td>511.30</td>\n",
       "      <td>507.05</td>\n",
       "      <td>519.70</td>\n",
       "      <td>502.75</td>\n",
       "      <td>504.00</td>\n",
       "      <td>506.35</td>\n",
       "      <td>512.10</td>\n",
       "      <td>391401</td>\n",
       "      <td>200437504.6</td>\n",
       "      <td>13341</td>\n",
       "      <td>150098</td>\n",
       "      <td>38.35</td>\n",
       "      <td>5</td>\n",
       "      <td>2017</td>\n",
       "      <td>508.495948</td>\n",
       "      <td>-0.009681</td>\n",
       "    </tr>\n",
       "    <tr>\n",
       "      <th>3</th>\n",
       "      <td>MINDTREE</td>\n",
       "      <td>EQ</td>\n",
       "      <td>18-May-17</td>\n",
       "      <td>506.35</td>\n",
       "      <td>502.00</td>\n",
       "      <td>516.75</td>\n",
       "      <td>486.00</td>\n",
       "      <td>487.50</td>\n",
       "      <td>492.90</td>\n",
       "      <td>505.60</td>\n",
       "      <td>852336</td>\n",
       "      <td>430937717.1</td>\n",
       "      <td>18513</td>\n",
       "      <td>170919</td>\n",
       "      <td>20.05</td>\n",
       "      <td>5</td>\n",
       "      <td>2017</td>\n",
       "      <td>500.779579</td>\n",
       "      <td>-0.026563</td>\n",
       "    </tr>\n",
       "    <tr>\n",
       "      <th>4</th>\n",
       "      <td>MINDTREE</td>\n",
       "      <td>EQ</td>\n",
       "      <td>19-May-17</td>\n",
       "      <td>492.90</td>\n",
       "      <td>491.95</td>\n",
       "      <td>502.95</td>\n",
       "      <td>489.50</td>\n",
       "      <td>495.15</td>\n",
       "      <td>497.50</td>\n",
       "      <td>496.43</td>\n",
       "      <td>352273</td>\n",
       "      <td>174878151.5</td>\n",
       "      <td>8326</td>\n",
       "      <td>57853</td>\n",
       "      <td>16.42</td>\n",
       "      <td>5</td>\n",
       "      <td>2017</td>\n",
       "      <td>500.222798</td>\n",
       "      <td>0.009333</td>\n",
       "    </tr>\n",
       "  </tbody>\n",
       "</table>\n",
       "</div>"
      ],
      "text/plain": [
       "     Symbol Series       Date  Prev Close  Open Price  High Price  Low Price  \\\n",
       "0  MINDTREE     EQ  15-May-17      510.60      507.35      515.00     505.90   \n",
       "1  MINDTREE     EQ  16-May-17      509.45      507.00      515.85     506.00   \n",
       "2  MINDTREE     EQ  17-May-17      511.30      507.05      519.70     502.75   \n",
       "3  MINDTREE     EQ  18-May-17      506.35      502.00      516.75     486.00   \n",
       "4  MINDTREE     EQ  19-May-17      492.90      491.95      502.95     489.50   \n",
       "\n",
       "   Last Price  Close Price  Average Price  Total Traded Quantity     Turnover  \\\n",
       "0      510.50       509.45         510.39                 271952  138800509.8   \n",
       "1      511.00       511.30         512.69                 207011  106131728.2   \n",
       "2      504.00       506.35         512.10                 391401  200437504.6   \n",
       "3      487.50       492.90         505.60                 852336  430937717.1   \n",
       "4      495.15       497.50         496.43                 352273  174878151.5   \n",
       "\n",
       "   No. of Trades  Deliverable Qty  % Dly Qt to Traded Qty  Month  Year  \\\n",
       "0           8261           100362                   36.90      5  2017   \n",
       "1           5550            82090                   39.65      5  2017   \n",
       "2          13341           150098                   38.35      5  2017   \n",
       "3          18513           170919                   20.05      5  2017   \n",
       "4           8326            57853                   16.42      5  2017   \n",
       "\n",
       "         VWAP  Day_Perc_Change  \n",
       "0  509.450000         0.000000  \n",
       "1  510.249582         0.003631  \n",
       "2  508.495948        -0.009681  \n",
       "3  500.779579        -0.026563  \n",
       "4  500.222798         0.009333  "
      ]
     },
     "execution_count": 49,
     "metadata": {},
     "output_type": "execute_result"
    }
   ],
   "source": [
    "data['Day_Perc_Change'] = data['Close Price'].pct_change().fillna(0)\n",
    "data.head(5)"
   ]
  },
  {
   "cell_type": "markdown",
   "metadata": {
    "colab_type": "text",
    "id": "-cevwgyzMGEZ"
   },
   "source": [
    "# Query 1.7 \n",
    "Add another column 'Trend' whose values are:\n",
    "'Slight or No change' for 'Day_Perc_Change' in between -0.5 and 0.5\n",
    "\n",
    "'Slight positive' for 'Day_Perc_Change' in between 0.5 and 1\n",
    "\n",
    "'Slight negative' for 'Day_Perc_Change' in between -0.5 and -1\n",
    "\n",
    "'Positive' for 'Day_Perc_Change' in between 1 and 3\n",
    "\n",
    "'Negative' for 'Day_Perc_Change' in between -1 and -3\n",
    "\n",
    "'Among top gainers' for 'Day_Perc_Change' in between 3 and 7\n",
    "\n",
    "'Among top losers' for 'Day_Perc_Change' in between -3 and -7\n",
    "\n",
    "'Bull run' for 'Day_Perc_Change' >7\n",
    "\n",
    "'Bear drop' for 'Day_Perc_Change' <-7"
   ]
  },
  {
   "cell_type": "code",
   "execution_count": 50,
   "metadata": {
    "colab": {
     "base_uri": "https://localhost:8080/",
     "height": 1000
    },
    "colab_type": "code",
    "id": "LY7LnuOMMGEa",
    "outputId": "dedac6b2-7553-4567-9a99-5fae9cfaa8f8"
   },
   "outputs": [
    {
     "data": {
      "text/html": [
       "<div>\n",
       "<style scoped>\n",
       "    .dataframe tbody tr th:only-of-type {\n",
       "        vertical-align: middle;\n",
       "    }\n",
       "\n",
       "    .dataframe tbody tr th {\n",
       "        vertical-align: top;\n",
       "    }\n",
       "\n",
       "    .dataframe thead th {\n",
       "        text-align: right;\n",
       "    }\n",
       "</style>\n",
       "<table border=\"1\" class=\"dataframe\">\n",
       "  <thead>\n",
       "    <tr style=\"text-align: right;\">\n",
       "      <th></th>\n",
       "      <th>Symbol</th>\n",
       "      <th>Series</th>\n",
       "      <th>Date</th>\n",
       "      <th>Prev Close</th>\n",
       "      <th>Open Price</th>\n",
       "      <th>High Price</th>\n",
       "      <th>Low Price</th>\n",
       "      <th>Last Price</th>\n",
       "      <th>Close Price</th>\n",
       "      <th>Average Price</th>\n",
       "      <th>Total Traded Quantity</th>\n",
       "      <th>Turnover</th>\n",
       "      <th>No. of Trades</th>\n",
       "      <th>Deliverable Qty</th>\n",
       "      <th>% Dly Qt to Traded Qty</th>\n",
       "      <th>Month</th>\n",
       "      <th>Year</th>\n",
       "      <th>VWAP</th>\n",
       "      <th>Day_Perc_Change</th>\n",
       "      <th>Trend</th>\n",
       "    </tr>\n",
       "  </thead>\n",
       "  <tbody>\n",
       "    <tr>\n",
       "      <th>0</th>\n",
       "      <td>MINDTREE</td>\n",
       "      <td>EQ</td>\n",
       "      <td>15-May-17</td>\n",
       "      <td>510.60</td>\n",
       "      <td>507.35</td>\n",
       "      <td>515.00</td>\n",
       "      <td>505.90</td>\n",
       "      <td>510.50</td>\n",
       "      <td>509.45</td>\n",
       "      <td>510.39</td>\n",
       "      <td>271952</td>\n",
       "      <td>138800509.8</td>\n",
       "      <td>8261</td>\n",
       "      <td>100362</td>\n",
       "      <td>36.90</td>\n",
       "      <td>5</td>\n",
       "      <td>2017</td>\n",
       "      <td>509.450000</td>\n",
       "      <td>0.000000</td>\n",
       "      <td>Slight or No change</td>\n",
       "    </tr>\n",
       "    <tr>\n",
       "      <th>1</th>\n",
       "      <td>MINDTREE</td>\n",
       "      <td>EQ</td>\n",
       "      <td>16-May-17</td>\n",
       "      <td>509.45</td>\n",
       "      <td>507.00</td>\n",
       "      <td>515.85</td>\n",
       "      <td>506.00</td>\n",
       "      <td>511.00</td>\n",
       "      <td>511.30</td>\n",
       "      <td>512.69</td>\n",
       "      <td>207011</td>\n",
       "      <td>106131728.2</td>\n",
       "      <td>5550</td>\n",
       "      <td>82090</td>\n",
       "      <td>39.65</td>\n",
       "      <td>5</td>\n",
       "      <td>2017</td>\n",
       "      <td>510.249582</td>\n",
       "      <td>0.003631</td>\n",
       "      <td>Slight or No change</td>\n",
       "    </tr>\n",
       "    <tr>\n",
       "      <th>2</th>\n",
       "      <td>MINDTREE</td>\n",
       "      <td>EQ</td>\n",
       "      <td>17-May-17</td>\n",
       "      <td>511.30</td>\n",
       "      <td>507.05</td>\n",
       "      <td>519.70</td>\n",
       "      <td>502.75</td>\n",
       "      <td>504.00</td>\n",
       "      <td>506.35</td>\n",
       "      <td>512.10</td>\n",
       "      <td>391401</td>\n",
       "      <td>200437504.6</td>\n",
       "      <td>13341</td>\n",
       "      <td>150098</td>\n",
       "      <td>38.35</td>\n",
       "      <td>5</td>\n",
       "      <td>2017</td>\n",
       "      <td>508.495948</td>\n",
       "      <td>-0.009681</td>\n",
       "      <td>Slight or No change</td>\n",
       "    </tr>\n",
       "    <tr>\n",
       "      <th>3</th>\n",
       "      <td>MINDTREE</td>\n",
       "      <td>EQ</td>\n",
       "      <td>18-May-17</td>\n",
       "      <td>506.35</td>\n",
       "      <td>502.00</td>\n",
       "      <td>516.75</td>\n",
       "      <td>486.00</td>\n",
       "      <td>487.50</td>\n",
       "      <td>492.90</td>\n",
       "      <td>505.60</td>\n",
       "      <td>852336</td>\n",
       "      <td>430937717.1</td>\n",
       "      <td>18513</td>\n",
       "      <td>170919</td>\n",
       "      <td>20.05</td>\n",
       "      <td>5</td>\n",
       "      <td>2017</td>\n",
       "      <td>500.779579</td>\n",
       "      <td>-0.026563</td>\n",
       "      <td>Slight or No change</td>\n",
       "    </tr>\n",
       "    <tr>\n",
       "      <th>4</th>\n",
       "      <td>MINDTREE</td>\n",
       "      <td>EQ</td>\n",
       "      <td>19-May-17</td>\n",
       "      <td>492.90</td>\n",
       "      <td>491.95</td>\n",
       "      <td>502.95</td>\n",
       "      <td>489.50</td>\n",
       "      <td>495.15</td>\n",
       "      <td>497.50</td>\n",
       "      <td>496.43</td>\n",
       "      <td>352273</td>\n",
       "      <td>174878151.5</td>\n",
       "      <td>8326</td>\n",
       "      <td>57853</td>\n",
       "      <td>16.42</td>\n",
       "      <td>5</td>\n",
       "      <td>2017</td>\n",
       "      <td>500.222798</td>\n",
       "      <td>0.009333</td>\n",
       "      <td>Slight or No change</td>\n",
       "    </tr>\n",
       "  </tbody>\n",
       "</table>\n",
       "</div>"
      ],
      "text/plain": [
       "     Symbol Series       Date  Prev Close  Open Price  High Price  Low Price  \\\n",
       "0  MINDTREE     EQ  15-May-17      510.60      507.35      515.00     505.90   \n",
       "1  MINDTREE     EQ  16-May-17      509.45      507.00      515.85     506.00   \n",
       "2  MINDTREE     EQ  17-May-17      511.30      507.05      519.70     502.75   \n",
       "3  MINDTREE     EQ  18-May-17      506.35      502.00      516.75     486.00   \n",
       "4  MINDTREE     EQ  19-May-17      492.90      491.95      502.95     489.50   \n",
       "\n",
       "   Last Price  Close Price  Average Price  Total Traded Quantity     Turnover  \\\n",
       "0      510.50       509.45         510.39                 271952  138800509.8   \n",
       "1      511.00       511.30         512.69                 207011  106131728.2   \n",
       "2      504.00       506.35         512.10                 391401  200437504.6   \n",
       "3      487.50       492.90         505.60                 852336  430937717.1   \n",
       "4      495.15       497.50         496.43                 352273  174878151.5   \n",
       "\n",
       "   No. of Trades  Deliverable Qty  % Dly Qt to Traded Qty  Month  Year  \\\n",
       "0           8261           100362                   36.90      5  2017   \n",
       "1           5550            82090                   39.65      5  2017   \n",
       "2          13341           150098                   38.35      5  2017   \n",
       "3          18513           170919                   20.05      5  2017   \n",
       "4           8326            57853                   16.42      5  2017   \n",
       "\n",
       "         VWAP  Day_Perc_Change                Trend  \n",
       "0  509.450000         0.000000  Slight or No change  \n",
       "1  510.249582         0.003631  Slight or No change  \n",
       "2  508.495948        -0.009681  Slight or No change  \n",
       "3  500.779579        -0.026563  Slight or No change  \n",
       "4  500.222798         0.009333  Slight or No change  "
      ]
     },
     "execution_count": 50,
     "metadata": {},
     "output_type": "execute_result"
    }
   ],
   "source": [
    "if ((data['Day_Perc_Change'] >= -0.5) & (data['Day_Perc_Change'] <= 0.5)).all():\n",
    "    data['Trend'] = 'Slight or No change'\n",
    "    \n",
    "if ((data['Day_Perc_Change'] >= 0.5) & (data['Day_Perc_Change'] <= 1)).all():\n",
    "    data['Trend'] = 'Slight positive'\n",
    "    \n",
    "if ((data['Day_Perc_Change'] <= -0.5) & (data['Day_Perc_Change'] >= -1)).all():\n",
    "    data['Trend'] = 'Slight negative'\n",
    "    \n",
    "if ((data['Day_Perc_Change'] >= 1) & (data['Day_Perc_Change'] <= 3)).all():\n",
    "    data['Trend'] = 'Positive' \n",
    "    \n",
    "if ((data['Day_Perc_Change'] <= -1) & (data['Day_Perc_Change'] >= -3)).all():\n",
    "    data['Trend'] = 'Negative'\n",
    "    \n",
    "if ((data['Day_Perc_Change'] >= 3) & (data['Day_Perc_Change'] <= 7)).all():\n",
    "    data['Trend'] = 'Among top gainers'\n",
    "    \n",
    "if ((data['Day_Perc_Change'] <= -3) & (data['Day_Perc_Change'] >= -7)).all():\n",
    "    data['Trend'] = 'Among top losers'\n",
    "    \n",
    "if (data['Day_Perc_Change'] > 7).all():\n",
    "    data['Trend'] = 'Bull run' \n",
    "    \n",
    "if (data['Day_Perc_Change'] < -7).all():\n",
    "    data['Trend'] = 'Bear drop' \n",
    "    \n",
    "data.head()"
   ]
  },
  {
   "cell_type": "markdown",
   "metadata": {
    "colab_type": "text",
    "id": "lX_CMTtYMGEg"
   },
   "source": [
    "# Query 1.8 \n",
    "Find the average and median values of the column 'Total Traded Quantity' for each of the types of 'Trend'.\n",
    "{Hint : use 'groupby()' on the 'Trend' column and then calculate the average and median values of the column 'Total Traded Quantity'}"
   ]
  },
  {
   "cell_type": "markdown",
   "metadata": {},
   "source": [
    "Since I only have 'Slight or No change' as my trend column so "
   ]
  },
  {
   "cell_type": "code",
   "execution_count": 55,
   "metadata": {
    "colab": {
     "base_uri": "https://localhost:8080/",
     "height": 102
    },
    "colab_type": "code",
    "id": "AE7bqANjMGEh",
    "outputId": "e0fd22ef-1469-491f-bd9d-6bffecbc812a"
   },
   "outputs": [
    {
     "data": {
      "text/plain": [
       "Trend\n",
       "Slight or No change    1.388615e+06\n",
       "Name: Total Traded Quantity, dtype: float64"
      ]
     },
     "execution_count": 55,
     "metadata": {},
     "output_type": "execute_result"
    }
   ],
   "source": [
    "data.groupby(data.Trend).mean()['Total Traded Quantity']"
   ]
  },
  {
   "cell_type": "code",
   "execution_count": 56,
   "metadata": {},
   "outputs": [
    {
     "data": {
      "text/plain": [
       "Trend\n",
       "Slight or No change    1006586.5\n",
       "Name: Total Traded Quantity, dtype: float64"
      ]
     },
     "execution_count": 56,
     "metadata": {},
     "output_type": "execute_result"
    }
   ],
   "source": [
    "data.groupby(data.Trend).median()['Total Traded Quantity']"
   ]
  },
  {
   "cell_type": "markdown",
   "metadata": {
    "colab_type": "text",
    "id": "nvVnLctEMGEn"
   },
   "source": [
    "# Query 1.9\n",
    "SAVE the dataframe with the additional columns computed as a csv file week2.csv. In Module 2, you are going to get familiar with matplotlib, the python module which is used to visualize data."
   ]
  },
  {
   "cell_type": "code",
   "execution_count": 57,
   "metadata": {
    "colab": {},
    "colab_type": "code",
    "id": "UCzwgRj1MGEp"
   },
   "outputs": [],
   "source": [
    "data.to_csv('week1.csv')"
   ]
  }
 ],
 "metadata": {
  "colab": {
   "collapsed_sections": [],
   "name": "MindTree(Module 1).ipynb",
   "provenance": []
  },
  "kernelspec": {
   "display_name": "Python 3",
   "language": "python",
   "name": "python3"
  },
  "language_info": {
   "codemirror_mode": {
    "name": "ipython",
    "version": 3
   },
   "file_extension": ".py",
   "mimetype": "text/x-python",
   "name": "python",
   "nbconvert_exporter": "python",
   "pygments_lexer": "ipython3",
   "version": "3.6.5"
  }
 },
 "nbformat": 4,
 "nbformat_minor": 1
}
